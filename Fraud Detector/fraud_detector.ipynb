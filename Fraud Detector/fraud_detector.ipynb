{
 "cells": [
  {
   "cell_type": "markdown",
   "metadata": {},
   "source": [
    "# Import package"
   ]
  },
  {
   "cell_type": "code",
   "execution_count": 1,
   "metadata": {},
   "outputs": [],
   "source": [
    "import warnings\n",
    "warnings.filterwarnings(\"ignore\")\n",
    "\n",
    "from sklearn.metrics import confusion_matrix, classification_report\n",
    "from sklearn.preprocessing import LabelEncoder\n",
    "from sklearn.preprocessing import MinMaxScaler\n",
    "from sklearn.model_selection import train_test_split\n",
    "from xgboost import XGBClassifier\n",
    "import matplotlib.pyplot as plt\n",
    "import numpy as np \n",
    "import os\n",
    "import pandas as pd "
   ]
  },
  {
   "cell_type": "markdown",
   "metadata": {},
   "source": [
    "### Functions to reduce memory usage"
   ]
  },
  {
   "cell_type": "code",
   "execution_count": 2,
   "metadata": {},
   "outputs": [],
   "source": [
    "def memory_usage_mb(train, *args, **kwargs):\n",
    "    \"\"\"Dataframe memory usage in MB. \"\"\"\n",
    "    return train.memory_usage(*args, **kwargs).sum() / 1024**2\n",
    "\n",
    "def reduce_memory_usage(train, deep=True, verbose=True):\n",
    "    # All types that we want to change for \"lighter\" ones.\n",
    "    # int8 and float16 are not include because we cannot reduce\n",
    "    # those data types.\n",
    "    # float32 is not include because float16 has too low precision.\n",
    "    numeric2reduce = [\"int16\", \"int32\", \"int64\", \"float64\"]\n",
    "    start_mem = 0\n",
    "    if verbose:\n",
    "        start_mem = memory_usage_mb(train, deep=deep)\n",
    "\n",
    "    for col, col_type in train.dtypes.iteritems():\n",
    "        best_type = None\n",
    "        if col_type in numeric2reduce:\n",
    "            downcast = \"integer\" if \"int\" in str(col_type) else \"float\"\n",
    "            train[col] = pd.to_numeric(train[col], downcast=downcast)\n",
    "            best_type = train[col].dtype.name\n",
    "        # Log the conversion performed.\n",
    "        if verbose and best_type is not None and best_type != str(col_type):\n",
    "            print(f\"Column '{col}' converted from {col_type} to {best_type}\")\n",
    "\n",
    "    if verbose:\n",
    "        end_mem = memory_usage_mb(train, deep=deep)\n",
    "        diff_mem = start_mem - end_mem\n",
    "        percent_mem = 100 * diff_mem / start_mem\n",
    "        print(f\"Memory usage decreased from\"\n",
    "              f\" {start_mem:.2f}MB to {end_mem:.2f}MB\"\n",
    "              f\" ({diff_mem:.2f}MB, {percent_mem:.2f}% reduction)\")\n",
    "        \n",
    "    return train"
   ]
  },
  {
   "cell_type": "markdown",
   "metadata": {},
   "source": [
    "# Get train and test data"
   ]
  },
  {
   "cell_type": "code",
   "execution_count": 3,
   "metadata": {},
   "outputs": [],
   "source": [
    "train_id = pd.read_csv('ieee-fraud-detection/train_identity.csv')\n",
    "train_trans = pd.read_csv('ieee-fraud-detection/train_transaction.csv')\n",
    "test_id = pd.read_csv('ieee-fraud-detection/test_identity.csv')\n",
    "test_trans = pd.read_csv('ieee-fraud-detection/test_transaction.csv')"
   ]
  },
  {
   "cell_type": "markdown",
   "metadata": {},
   "source": [
    "### Merge data"
   ]
  },
  {
   "cell_type": "code",
   "execution_count": 4,
   "metadata": {},
   "outputs": [],
   "source": [
    "train = pd.merge(train_trans, train_id, on='TransactionID', how='left')\n",
    "test = pd.merge(test_trans, test_id, on='TransactionID', how='left')"
   ]
  },
  {
   "cell_type": "markdown",
   "metadata": {},
   "source": [
    "# Missing values"
   ]
  },
  {
   "cell_type": "code",
   "execution_count": 5,
   "metadata": {},
   "outputs": [],
   "source": [
    "train.dropna(thresh = 0.5*len(train),how ='all', axis=1, inplace = True)"
   ]
  },
  {
   "cell_type": "markdown",
   "metadata": {},
   "source": [
    "### Split data into numeric and categorical columns"
   ]
  },
  {
   "cell_type": "code",
   "execution_count": 6,
   "metadata": {},
   "outputs": [],
   "source": [
    "train_cat =train.select_dtypes(include=['object', 'O']).copy()\n",
    "train_num =train.select_dtypes(exclude=['object', 'O']).copy()"
   ]
  },
  {
   "cell_type": "code",
   "execution_count": 7,
   "metadata": {},
   "outputs": [
    {
     "data": {
      "text/plain": [
       "array([[0.00000000e+00, 0.00000000e+00, 0.00000000e+00, ...,\n",
       "        0.00000000e+00, 0.00000000e+00, 0.00000000e+00],\n",
       "       [1.69336826e-06, 0.00000000e+00, 6.35940926e-08, ...,\n",
       "        0.00000000e+00, 0.00000000e+00, 0.00000000e+00],\n",
       "       [3.38673652e-06, 0.00000000e+00, 4.38799239e-06, ...,\n",
       "        0.00000000e+00, 0.00000000e+00, 0.00000000e+00],\n",
       "       ...,\n",
       "       [9.99996613e-01, 0.00000000e+00, 9.99996693e-01, ...,\n",
       "        0.00000000e+00, 0.00000000e+00, 0.00000000e+00],\n",
       "       [9.99998307e-01, 0.00000000e+00, 9.99997265e-01, ...,\n",
       "        0.00000000e+00, 0.00000000e+00, 0.00000000e+00],\n",
       "       [1.00000000e+00, 0.00000000e+00, 1.00000000e+00, ...,\n",
       "        2.69027496e-03, 2.69027496e-03, 2.69027496e-03]])"
      ]
     },
     "execution_count": 7,
     "metadata": {},
     "output_type": "execute_result"
    }
   ],
   "source": [
    "mm_scaler = MinMaxScaler()\n",
    "mm_scaler.fit_transform(train_num)"
   ]
  },
  {
   "cell_type": "markdown",
   "metadata": {},
   "source": [
    "### replace null values"
   ]
  },
  {
   "cell_type": "code",
   "execution_count": 8,
   "metadata": {},
   "outputs": [],
   "source": [
    "for col in train_cat:\n",
    "   train_cat[col] = train_cat[col].replace(np.nan, train_cat[col].mode()[0])\n",
    "\n",
    "for col in train_num:\n",
    "   train_num[col] = train_num[col].replace(np.nan, train_num[col].mean())"
   ]
  },
  {
   "cell_type": "markdown",
   "metadata": {},
   "source": [
    "### Create dummy values for the categorical column values"
   ]
  },
  {
   "cell_type": "code",
   "execution_count": 9,
   "metadata": {},
   "outputs": [],
   "source": [
    "dummy = LabelEncoder()\n",
    "train_catg = train_cat.apply(dummy.fit_transform)"
   ]
  },
  {
   "cell_type": "markdown",
   "metadata": {},
   "source": [
    "# reduce memory usage"
   ]
  },
  {
   "cell_type": "code",
   "execution_count": 10,
   "metadata": {},
   "outputs": [
    {
     "name": "stdout",
     "output_type": "stream",
     "text": [
      "Column 'TransactionID' converted from int64 to int32\n",
      "Column 'isFraud' converted from int64 to int8\n",
      "Column 'TransactionDT' converted from int64 to int32\n",
      "Column 'TransactionAmt' converted from float64 to float32\n",
      "Column 'card1' converted from int64 to int16\n",
      "Column 'card2' converted from float64 to float32\n",
      "Column 'card3' converted from float64 to float32\n",
      "Column 'card5' converted from float64 to float32\n",
      "Column 'addr1' converted from float64 to float32\n",
      "Column 'addr2' converted from float64 to float32\n",
      "Column 'C1' converted from float64 to float32\n",
      "Column 'C2' converted from float64 to float32\n",
      "Column 'C3' converted from float64 to float32\n",
      "Column 'C4' converted from float64 to float32\n",
      "Column 'C5' converted from float64 to float32\n",
      "Column 'C6' converted from float64 to float32\n",
      "Column 'C7' converted from float64 to float32\n",
      "Column 'C8' converted from float64 to float32\n",
      "Column 'C9' converted from float64 to float32\n",
      "Column 'C10' converted from float64 to float32\n",
      "Column 'C11' converted from float64 to float32\n",
      "Column 'C12' converted from float64 to float32\n",
      "Column 'C13' converted from float64 to float32\n",
      "Column 'C14' converted from float64 to float32\n",
      "Column 'D1' converted from float64 to float32\n",
      "Column 'D2' converted from float64 to float32\n",
      "Column 'D3' converted from float64 to float32\n",
      "Column 'D4' converted from float64 to float32\n",
      "Column 'D10' converted from float64 to float32\n",
      "Column 'D11' converted from float64 to float32\n",
      "Column 'D15' converted from float64 to float32\n",
      "Column 'V1' converted from float64 to float32\n",
      "Column 'V2' converted from float64 to float32\n",
      "Column 'V3' converted from float64 to float32\n",
      "Column 'V4' converted from float64 to float32\n",
      "Column 'V5' converted from float64 to float32\n",
      "Column 'V6' converted from float64 to float32\n",
      "Column 'V7' converted from float64 to float32\n",
      "Column 'V8' converted from float64 to float32\n",
      "Column 'V9' converted from float64 to float32\n",
      "Column 'V10' converted from float64 to float32\n",
      "Column 'V11' converted from float64 to float32\n",
      "Column 'V12' converted from float64 to float32\n",
      "Column 'V13' converted from float64 to float32\n",
      "Column 'V14' converted from float64 to float32\n",
      "Column 'V15' converted from float64 to float32\n",
      "Column 'V16' converted from float64 to float32\n",
      "Column 'V17' converted from float64 to float32\n",
      "Column 'V18' converted from float64 to float32\n",
      "Column 'V19' converted from float64 to float32\n",
      "Column 'V20' converted from float64 to float32\n",
      "Column 'V21' converted from float64 to float32\n",
      "Column 'V22' converted from float64 to float32\n",
      "Column 'V23' converted from float64 to float32\n",
      "Column 'V24' converted from float64 to float32\n",
      "Column 'V25' converted from float64 to float32\n",
      "Column 'V26' converted from float64 to float32\n",
      "Column 'V27' converted from float64 to float32\n",
      "Column 'V28' converted from float64 to float32\n",
      "Column 'V29' converted from float64 to float32\n",
      "Column 'V30' converted from float64 to float32\n",
      "Column 'V31' converted from float64 to float32\n",
      "Column 'V32' converted from float64 to float32\n",
      "Column 'V33' converted from float64 to float32\n",
      "Column 'V34' converted from float64 to float32\n",
      "Column 'V35' converted from float64 to float32\n",
      "Column 'V36' converted from float64 to float32\n",
      "Column 'V37' converted from float64 to float32\n",
      "Column 'V38' converted from float64 to float32\n",
      "Column 'V39' converted from float64 to float32\n",
      "Column 'V40' converted from float64 to float32\n",
      "Column 'V41' converted from float64 to float32\n",
      "Column 'V42' converted from float64 to float32\n",
      "Column 'V43' converted from float64 to float32\n",
      "Column 'V44' converted from float64 to float32\n",
      "Column 'V45' converted from float64 to float32\n",
      "Column 'V46' converted from float64 to float32\n",
      "Column 'V47' converted from float64 to float32\n",
      "Column 'V48' converted from float64 to float32\n",
      "Column 'V49' converted from float64 to float32\n",
      "Column 'V50' converted from float64 to float32\n",
      "Column 'V51' converted from float64 to float32\n",
      "Column 'V52' converted from float64 to float32\n",
      "Column 'V53' converted from float64 to float32\n",
      "Column 'V54' converted from float64 to float32\n",
      "Column 'V55' converted from float64 to float32\n",
      "Column 'V56' converted from float64 to float32\n",
      "Column 'V57' converted from float64 to float32\n",
      "Column 'V58' converted from float64 to float32\n",
      "Column 'V59' converted from float64 to float32\n",
      "Column 'V60' converted from float64 to float32\n",
      "Column 'V61' converted from float64 to float32\n",
      "Column 'V62' converted from float64 to float32\n",
      "Column 'V63' converted from float64 to float32\n",
      "Column 'V64' converted from float64 to float32\n",
      "Column 'V65' converted from float64 to float32\n",
      "Column 'V66' converted from float64 to float32\n",
      "Column 'V67' converted from float64 to float32\n",
      "Column 'V68' converted from float64 to float32\n",
      "Column 'V69' converted from float64 to float32\n",
      "Column 'V70' converted from float64 to float32\n",
      "Column 'V71' converted from float64 to float32\n",
      "Column 'V72' converted from float64 to float32\n",
      "Column 'V73' converted from float64 to float32\n",
      "Column 'V74' converted from float64 to float32\n",
      "Column 'V75' converted from float64 to float32\n",
      "Column 'V76' converted from float64 to float32\n",
      "Column 'V77' converted from float64 to float32\n",
      "Column 'V78' converted from float64 to float32\n",
      "Column 'V79' converted from float64 to float32\n",
      "Column 'V80' converted from float64 to float32\n",
      "Column 'V81' converted from float64 to float32\n",
      "Column 'V82' converted from float64 to float32\n",
      "Column 'V83' converted from float64 to float32\n",
      "Column 'V84' converted from float64 to float32\n",
      "Column 'V85' converted from float64 to float32\n",
      "Column 'V86' converted from float64 to float32\n",
      "Column 'V87' converted from float64 to float32\n",
      "Column 'V88' converted from float64 to float32\n",
      "Column 'V89' converted from float64 to float32\n",
      "Column 'V90' converted from float64 to float32\n",
      "Column 'V91' converted from float64 to float32\n",
      "Column 'V92' converted from float64 to float32\n",
      "Column 'V93' converted from float64 to float32\n",
      "Column 'V94' converted from float64 to float32\n",
      "Column 'V95' converted from float64 to float32\n",
      "Column 'V96' converted from float64 to float32\n",
      "Column 'V97' converted from float64 to float32\n",
      "Column 'V98' converted from float64 to float32\n",
      "Column 'V99' converted from float64 to float32\n",
      "Column 'V100' converted from float64 to float32\n",
      "Column 'V101' converted from float64 to float32\n",
      "Column 'V102' converted from float64 to float32\n",
      "Column 'V103' converted from float64 to float32\n",
      "Column 'V104' converted from float64 to float32\n",
      "Column 'V105' converted from float64 to float32\n",
      "Column 'V106' converted from float64 to float32\n",
      "Column 'V107' converted from float64 to float32\n",
      "Column 'V108' converted from float64 to float32\n",
      "Column 'V109' converted from float64 to float32\n",
      "Column 'V110' converted from float64 to float32\n",
      "Column 'V111' converted from float64 to float32\n",
      "Column 'V112' converted from float64 to float32\n",
      "Column 'V113' converted from float64 to float32\n",
      "Column 'V114' converted from float64 to float32\n",
      "Column 'V115' converted from float64 to float32\n",
      "Column 'V116' converted from float64 to float32\n",
      "Column 'V117' converted from float64 to float32\n",
      "Column 'V118' converted from float64 to float32\n",
      "Column 'V119' converted from float64 to float32\n",
      "Column 'V120' converted from float64 to float32\n",
      "Column 'V121' converted from float64 to float32\n",
      "Column 'V122' converted from float64 to float32\n",
      "Column 'V123' converted from float64 to float32\n",
      "Column 'V124' converted from float64 to float32\n",
      "Column 'V125' converted from float64 to float32\n",
      "Column 'V126' converted from float64 to float32\n",
      "Column 'V127' converted from float64 to float32\n",
      "Column 'V128' converted from float64 to float32\n",
      "Column 'V129' converted from float64 to float32\n",
      "Column 'V130' converted from float64 to float32\n",
      "Column 'V131' converted from float64 to float32\n",
      "Column 'V132' converted from float64 to float32\n",
      "Column 'V133' converted from float64 to float32\n",
      "Column 'V134' converted from float64 to float32\n",
      "Column 'V135' converted from float64 to float32\n",
      "Column 'V136' converted from float64 to float32\n",
      "Column 'V137' converted from float64 to float32\n",
      "Column 'V279' converted from float64 to float32\n",
      "Column 'V280' converted from float64 to float32\n",
      "Column 'V281' converted from float64 to float32\n",
      "Column 'V282' converted from float64 to float32\n",
      "Column 'V283' converted from float64 to float32\n",
      "Column 'V284' converted from float64 to float32\n"
     ]
    },
    {
     "name": "stdout",
     "output_type": "stream",
     "text": [
      "Column 'V285' converted from float64 to float32\n",
      "Column 'V286' converted from float64 to float32\n",
      "Column 'V287' converted from float64 to float32\n",
      "Column 'V288' converted from float64 to float32\n",
      "Column 'V289' converted from float64 to float32\n",
      "Column 'V290' converted from float64 to float32\n",
      "Column 'V291' converted from float64 to float32\n",
      "Column 'V292' converted from float64 to float32\n",
      "Column 'V293' converted from float64 to float32\n",
      "Column 'V294' converted from float64 to float32\n",
      "Column 'V295' converted from float64 to float32\n",
      "Column 'V296' converted from float64 to float32\n",
      "Column 'V297' converted from float64 to float32\n",
      "Column 'V298' converted from float64 to float32\n",
      "Column 'V299' converted from float64 to float32\n",
      "Column 'V300' converted from float64 to float32\n",
      "Column 'V301' converted from float64 to float32\n",
      "Column 'V302' converted from float64 to float32\n",
      "Column 'V303' converted from float64 to float32\n",
      "Column 'V304' converted from float64 to float32\n",
      "Column 'V305' converted from float64 to float32\n",
      "Column 'V306' converted from float64 to float32\n",
      "Column 'V307' converted from float64 to float32\n",
      "Column 'V308' converted from float64 to float32\n",
      "Column 'V309' converted from float64 to float32\n",
      "Column 'V310' converted from float64 to float32\n",
      "Column 'V311' converted from float64 to float32\n",
      "Column 'V312' converted from float64 to float32\n",
      "Column 'V313' converted from float64 to float32\n",
      "Column 'V314' converted from float64 to float32\n",
      "Column 'V315' converted from float64 to float32\n",
      "Column 'V316' converted from float64 to float32\n",
      "Column 'V317' converted from float64 to float32\n",
      "Column 'V318' converted from float64 to float32\n",
      "Column 'V319' converted from float64 to float32\n",
      "Column 'V320' converted from float64 to float32\n",
      "Column 'V321' converted from float64 to float32\n",
      "Memory usage decreased from 955.16MB to 477.02MB (478.14MB, 50.06% reduction)\n"
     ]
    }
   ],
   "source": [
    "train_num = reduce_memory_usage(train_num, deep=True, verbose=True)"
   ]
  },
  {
   "cell_type": "markdown",
   "metadata": {},
   "source": [
    "# Select upper triangle of correlation matrix"
   ]
  },
  {
   "cell_type": "markdown",
   "metadata": {},
   "source": [
    "### Drop columns with correlation greater than 0.95"
   ]
  },
  {
   "cell_type": "code",
   "execution_count": 11,
   "metadata": {},
   "outputs": [],
   "source": [
    "corr_matrix = train_num.corr()\n",
    "upper = corr_matrix.where(np.triu(np.ones(corr_matrix.shape), k=1).astype(np.bool))\n",
    "to_drop = [column for column in upper.columns if any(upper[column] > 0.95)]\n",
    "train_num.drop(train_num[to_drop], axis=1, inplace=True)\n",
    "train_num.drop(['isFraud'], axis=1, inplace=True)"
   ]
  },
  {
   "cell_type": "markdown",
   "metadata": {},
   "source": [
    "# Define target and features"
   ]
  },
  {
   "cell_type": "markdown",
   "metadata": {},
   "source": [
    "### train data"
   ]
  },
  {
   "cell_type": "code",
   "execution_count": 12,
   "metadata": {},
   "outputs": [],
   "source": [
    "frames = [train_catg,train_num]\n",
    "features = pd.concat(frames, axis=1)\n",
    "target = train['isFraud']"
   ]
  },
  {
   "cell_type": "markdown",
   "metadata": {},
   "source": [
    "### test data"
   ]
  },
  {
   "cell_type": "code",
   "execution_count": 13,
   "metadata": {},
   "outputs": [],
   "source": [
    "test = pd.get_dummies(test)"
   ]
  },
  {
   "cell_type": "code",
   "execution_count": 14,
   "metadata": {},
   "outputs": [],
   "source": [
    "### Purge data to reduce memory"
   ]
  },
  {
   "cell_type": "code",
   "execution_count": 15,
   "metadata": {},
   "outputs": [],
   "source": [
    "del train_id, train_trans, test_id, test_trans, train"
   ]
  },
  {
   "cell_type": "markdown",
   "metadata": {},
   "source": [
    "# Model data"
   ]
  },
  {
   "cell_type": "code",
   "execution_count": 16,
   "metadata": {
    "scrolled": true
   },
   "outputs": [
    {
     "data": {
      "text/plain": [
       "XGBClassifier(base_score=0.5, booster='gbtree', colsample_bylevel=1,\n",
       "              colsample_bynode=1, colsample_bytree=1, gamma=0,\n",
       "              learning_rate=0.1, max_delta_step=0, max_depth=3,\n",
       "              min_child_weight=1, missing=None, n_estimators=100, n_jobs=1,\n",
       "              nthread=None, objective='binary:logistic', random_state=0,\n",
       "              reg_alpha=0, reg_lambda=1, scale_pos_weight=1, seed=None,\n",
       "              silent=None, subsample=1, verbosity=1)"
      ]
     },
     "execution_count": 16,
     "metadata": {},
     "output_type": "execute_result"
    }
   ],
   "source": [
    "X_train, X_test, y_train, y_test = train_test_split(features, target, test_size=0.33, random_state=42)\n",
    "xgboost_classifier = XGBClassifier()\n",
    "xgboost_classifier.fit(X_train, y_train)"
   ]
  },
  {
   "cell_type": "markdown",
   "metadata": {},
   "source": [
    "# Predict"
   ]
  },
  {
   "cell_type": "code",
   "execution_count": null,
   "metadata": {},
   "outputs": [],
   "source": [
    "train_id = pd.read_csv('ieee-fraud-detection/train_identity.csv')\n",
    "train_trans = pd.read_csv('ieee-fraud-detection/train_transaction.csv')\n",
    "train = pd.merge(train_trans, train_id, on='TransactionID', how='left')\n",
    "print ('train', train.shape)\n",
    "\n",
    "test_id = pd.read_csv('ieee-fraud-detection/test_identity.csv')\n",
    "test_trans = pd.read_csv('ieee-fraud-detection/test_transaction.csv')\n",
    "test = pd.merge(test_trans, test_id, on='TransactionID', how='left')\n",
    "print ('test', test.shape)"
   ]
  },
  {
   "cell_type": "code",
   "execution_count": null,
   "metadata": {},
   "outputs": [],
   "source": [
    "del features, target, X_train, y_train"
   ]
  },
  {
   "cell_type": "code",
   "execution_count": null,
   "metadata": {},
   "outputs": [],
   "source": [
    "predictions = xgboost_classifier.predict(X_test)"
   ]
  },
  {
   "cell_type": "code",
   "execution_count": null,
   "metadata": {},
   "outputs": [],
   "source": [
    "isFraud1 = xgboost_classifier.predict_proba(test[0:100])"
   ]
  },
  {
   "cell_type": "code",
   "execution_count": null,
   "metadata": {},
   "outputs": [],
   "source": [
    "isFraud1 = xgboost_classifier.predict_proba(test[0:101500])[:,1]\n",
    "isFraud2 = xgboost_classifier.predict_proba(test[101500:203000])[:,1]\n",
    "isFraud3 = xgboost_classifier.predict_proba(test[203000:304500])[:,1]\n",
    "isFraud4 = xgboost_classifier.predict_proba(test[304500:406000])[:,1]\n",
    "isFraud5 = xgboost_classifier.predict_proba(test[406000:506691])[:,1]"
   ]
  },
  {
   "cell_type": "code",
   "execution_count": null,
   "metadata": {},
   "outputs": [],
   "source": [
    "test[\"isFraud\"] = xgboost_classifier.predict_proba(test)[:,1]"
   ]
  },
  {
   "cell_type": "markdown",
   "metadata": {},
   "source": [
    "# Check performace matrix"
   ]
  },
  {
   "cell_type": "code",
   "execution_count": null,
   "metadata": {},
   "outputs": [],
   "source": [
    "print(confusion_matrix(predictions, y_test))\n",
    "print(classification_report(predictions, y_test))"
   ]
  },
  {
   "cell_type": "code",
   "execution_count": null,
   "metadata": {},
   "outputs": [],
   "source": [
    "# Save prediction"
   ]
  },
  {
   "cell_type": "code",
   "execution_count": null,
   "metadata": {},
   "outputs": [],
   "source": [
    "submission = test[[\"TransactionID\", \"isFraud\"]]\n",
    "submission.to_csv(\"submission.csv\", index = False)"
   ]
  }
 ],
 "metadata": {
  "kernelspec": {
   "display_name": "Python 3",
   "language": "python",
   "name": "python3"
  },
  "language_info": {
   "codemirror_mode": {
    "name": "ipython",
    "version": 3
   },
   "file_extension": ".py",
   "mimetype": "text/x-python",
   "name": "python",
   "nbconvert_exporter": "python",
   "pygments_lexer": "ipython3",
   "version": "3.7.3"
  }
 },
 "nbformat": 4,
 "nbformat_minor": 2
}
